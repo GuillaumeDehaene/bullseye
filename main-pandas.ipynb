{
 "cells": [
  {
   "cell_type": "code",
   "execution_count": 3,
   "metadata": {},
   "outputs": [
    {
     "name": "stdout",
     "output_type": "stream",
     "text": [
      "The autoreload extension is already loaded. To reload it, use:\n",
      "  %reload_ext autoreload\n"
     ]
    }
   ],
   "source": [
    "import tensorflow as tf\n",
    "import numpy as np\n",
    "import pandas as pdthe \n",
    "\n",
    "import matplotlib.pyplot as plt\n",
    "import time\n",
    "\n",
    "import sys\n",
    "sys.path.append('./modules')\n",
    "sys.path.append('./data')\n",
    "\n",
    "from utils import *\n",
    "from Bullseye import Bullseye_graph\n",
    "\n",
    "%load_ext autoreload\n",
    "%autoreload 2"
   ]
  },
  {
   "cell_type": "code",
   "execution_count": 4,
   "metadata": {},
   "outputs": [],
   "source": [
    "\"\"\"\n",
    "TODO:\n",
    "batching : does not work with feed_dict\n",
    "threshold_dim_sampling\n",
    "\"\"\"\n",
    "None"
   ]
  },
  {
   "cell_type": "code",
   "execution_count": 5,
   "metadata": {},
   "outputs": [],
   "source": [
    "bull = Bullseye_graph()"
   ]
  },
  {
   "cell_type": "code",
   "execution_count": 6,
   "metadata": {},
   "outputs": [],
   "source": [
    "\"\"\"\n",
    "filename = \"data/generated_multilogit.csv\"\n",
    "k=5\n",
    "theta_0, x_array, y_array =\\\n",
    "    generate_multilogit(d = 10,n = 10**3,k = k,\n",
    "    file = filename)\n",
    "\n",
    "#bull.feed_with(x_array, y_array)\n",
    "bull.feed_with(file = filename, chunksize = 400, k=k)\n",
    "#\"\"\"\n",
    "None"
   ]
  },
  {
   "cell_type": "code",
   "execution_count": 7,
   "metadata": {},
   "outputs": [],
   "source": [
    "\"\"\"\n",
    "x_array = read_idx(\"data/mnist/train-images.idx3-ubyte\")\n",
    "y_array = read_idx(\"data/mnist/train-labels.idx1-ubyte\")\n",
    "y_array = to_one_hot(y_array)\n",
    "\n",
    "d = x_array.shape[-1]*x_array.shape[-2]\n",
    "n = x_array.shape[0]\n",
    "k = y_array[-1]\n",
    "\n",
    "x_array = np.reshape(x_array, (n, d))\n",
    "bull.feed_with(x_array,y_array)\n",
    "# \"\"\"\n",
    "None"
   ]
  },
  {
   "cell_type": "code",
   "execution_count": 8,
   "metadata": {},
   "outputs": [],
   "source": [
    "#\"\"\"\n",
    "bull.feed_with(file = \"data/mnist.csv\",\n",
    "               chunksize = 30, k=10)\n",
    "#\"\"\"\n",
    "None"
   ]
  },
  {
   "cell_type": "code",
   "execution_count": 10,
   "metadata": {
    "scrolled": true
   },
   "outputs": [],
   "source": [
    "bull.set_model(\"multilogit\")\n",
    "bull.init_with(mu_0 = 0, cov_0 = 1)\n",
    "options = {\n",
    "    \"flatten_activations\" : False,\n",
    "    \"local_std_trick\" : True,\n",
    "    \"m\" : 0,\n",
    "    \"m_prior\" : 0,\n",
    "    \"compute_kernel\" : False,\n",
    "    \"compute_prior_kernel\" : False,\n",
    "    \"chunk_as_sum\" : True,\n",
    "    \"sparse\" : False, # not working\n",
    "    \"keep_1d_prior\" : True,\n",
    "    \"number_of_chunk_max\" : 3,\n",
    "    \"speed\" : 0.01\n",
    "}\n",
    "bull.set_options(**options)\n",
    "bull.build()"
   ]
  },
  {
   "cell_type": "code",
   "execution_count": null,
   "metadata": {
    "scrolled": true
   },
   "outputs": [],
   "source": [
    "#r = bull.run(n_iter = 50)\n",
    "r = bull.run(n_iter = 50, show_elapsed_time = True)"
   ]
  },
  {
   "cell_type": "code",
   "execution_count": null,
   "metadata": {},
   "outputs": [],
   "source": []
  }
 ],
 "metadata": {
  "kernelspec": {
   "display_name": "Python (bullseye)",
   "language": "python",
   "name": "bullseye"
  },
  "language_info": {
   "codemirror_mode": {
    "name": "ipython",
    "version": 3
   },
   "file_extension": ".py",
   "mimetype": "text/x-python",
   "name": "python",
   "nbconvert_exporter": "python",
   "pygments_lexer": "ipython3",
   "version": "3.6.6"
  }
 },
 "nbformat": 4,
 "nbformat_minor": 2
}
