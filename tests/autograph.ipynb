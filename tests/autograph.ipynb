{
 "cells": [
  {
   "cell_type": "code",
   "execution_count": 3,
   "metadata": {},
   "outputs": [],
   "source": [
    "import tensorflow as tf\n",
    "import numpy as np\n",
    "from __future__ import print_function"
   ]
  },
  {
   "cell_type": "code",
   "execution_count": 4,
   "metadata": {},
   "outputs": [],
   "source": [
    "from tensorflow.contrib import autograph"
   ]
  },
  {
   "cell_type": "code",
   "execution_count": 21,
   "metadata": {},
   "outputs": [],
   "source": [
    "def square_if_positive(x):\n",
    "  if x > 0:\n",
    "    x = x * x\n",
    "  else:\n",
    "    x = 0.0\n",
    "  return x\n",
    "\n",
    "def test_np(A):\n",
    "    return np.matmul(np.transpose(A),A)"
   ]
  },
  {
   "cell_type": "code",
   "execution_count": 22,
   "metadata": {},
   "outputs": [
    {
     "ename": "AutographParseError",
     "evalue": "NotImplementedError: py_func with return values (unknown function)\nOffending source:\nnp.matmul(np.transpose(A), A)\n\n\nOccurred at node:\nCall:\n| func=Attribute:\n| | value=Name:\n| | | id=\"np\"\n| | | ctx=Load()\n| | | annotation=None\n| | | ___pyct_anno={ORIGIN: OriginInfo(file_path='<ipython-input-21-1fbcfa05fa19>', function_name='test_np', line_number=9, column_offset=11, source_code_line='    return np.matmul(np.transpose(A),A)'), QN: np, IS_LOCAL: False, IS_MODIFIED_SINCE_ENTRY: False, IS_PARAM: False, 'live_val': <module 'numpy' from 'C:\\\\ProgramData\\\\Anaconda3\\\\envs\\\\bullseye\\\\lib\\\\site-packages\\\\numpy\\\\__init__.py'>, 'fqn': ('numpy',)}\n| | attr=\"matmul\"\n| | ctx=Load()\n| | ___pyct_anno={ORIGIN: OriginInfo(file_path='<ipython-input-21-1fbcfa05fa19>', function_name='test_np', line_number=9, column_offset=11, source_code_line='    return np.matmul(np.transpose(A),A)'), QN: np.matmul, IS_LOCAL: False, IS_MODIFIED_SINCE_ENTRY: False, IS_PARAM: False, 'parent_type': <class 'module'>, 'live_val': <built-in function matmul>, 'fqn': ('numpy', 'matmul')}\n| args=[\n| | Call:\n| | | func=Attribute:\n| | | | value=Name:\n| | | | | id=\"np\"\n| | | | | ctx=Load()\n| | | | | annotation=None\n| | | | | ___pyct_anno={ORIGIN: OriginInfo(file_path='<ipython-input-21-1fbcfa05fa19>', function_name='test_np', line_number=9, column_offset=21, source_code_line='    return np.matmul(np.transpose(A),A)'), QN: np, IS_LOCAL: False, IS_MODIFIED_SINCE_ENTRY: False, IS_PARAM: False, 'live_val': <module 'numpy' from 'C:\\\\ProgramData\\\\Anaconda3\\\\envs\\\\bullseye\\\\lib\\\\site-packages\\\\numpy\\\\__init__.py'>, 'fqn': ('numpy',)}\n| | | | attr=\"transpose\"\n| | | | ctx=Load()\n| | | | ___pyct_anno={ORIGIN: OriginInfo(file_path='<ipython-input-21-1fbcfa05fa19>', function_name='test_np', line_number=9, column_offset=21, source_code_line='    return np.matmul(np.transpose(A),A)'), QN: np.transpose, IS_LOCAL: False, IS_MODIFIED_SINCE_ENTRY: False, IS_PARAM: False, 'parent_type': <class 'module'>, 'live_val': <function transpose at 0x0000000004B92950>, 'fqn': ('numpy', 'transpose')}\n| | | args=[\n| | | | Name:\n| | | | | id=\"A\"\n| | | | | ctx=Load()\n| | | | | annotation=None\n| | | | | ___pyct_anno={ORIGIN: OriginInfo(file_path='<ipython-input-21-1fbcfa05fa19>', function_name='test_np', line_number=9, column_offset=34, source_code_line='    return np.matmul(np.transpose(A),A)'), QN: A, IS_LOCAL: True, IS_MODIFIED_SINCE_ENTRY: False, IS_PARAM: True, 'definition': <gast.gast.Name object at 0x000000000C9B8668>}\n| | | ]\n| | | keywords=[]\n| | | ___pyct_anno={ORIGIN: OriginInfo(file_path='<ipython-input-21-1fbcfa05fa19>', function_name='test_np', line_number=9, column_offset=21, source_code_line='    return np.matmul(np.transpose(A),A)'), ARGS_SCOPE: Scope{r=(A,), c=(), w=()}}\n| | Name:\n| | | id=\"A\"\n| | | ctx=Load()\n| | | annotation=None\n| | | ___pyct_anno={ORIGIN: OriginInfo(file_path='<ipython-input-21-1fbcfa05fa19>', function_name='test_np', line_number=9, column_offset=37, source_code_line='    return np.matmul(np.transpose(A),A)'), QN: A, IS_LOCAL: True, IS_MODIFIED_SINCE_ENTRY: False, IS_PARAM: True, 'definition': <gast.gast.Name object at 0x000000000C9B8668>}\n| ]\n| keywords=[]\n| ___pyct_anno={ORIGIN: OriginInfo(file_path='<ipython-input-21-1fbcfa05fa19>', function_name='test_np', line_number=9, column_offset=11, source_code_line='    return np.matmul(np.transpose(A),A)'), ARGS_SCOPE: Scope{r=(np, A, np.transpose), c=(), w=()}}\n (<fragment>, line 0)",
     "output_type": "error",
     "traceback": [
      "Traceback \u001b[1;36m(most recent call last)\u001b[0m:\n",
      "  File \u001b[0;32m\"C:\\ProgramData\\Anaconda3\\envs\\bullseye\\lib\\site-packages\\IPython\\core\\interactiveshell.py\"\u001b[0m, line \u001b[0;32m2961\u001b[0m, in \u001b[0;35mrun_code\u001b[0m\n    exec(code_obj, self.user_global_ns, self.user_ns)\n",
      "  File \u001b[0;32m\"<ipython-input-22-d2142984bfff>\"\u001b[0m, line \u001b[0;32m1\u001b[0m, in \u001b[0;35m<module>\u001b[0m\n    autograph.to_code(test_np)\n",
      "  File \u001b[0;32m\"C:\\ProgramData\\Anaconda3\\envs\\bullseye\\lib\\site-packages\\tensorflow\\contrib\\autograph\\impl\\api.py\"\u001b[0m, line \u001b[0;32m308\u001b[0m, in \u001b[0;35mto_code\u001b[0m\n    conversion.entity_to_graph(e, program_ctx, arg_values, arg_types)\n",
      "  File \u001b[0;32m\"C:\\ProgramData\\Anaconda3\\envs\\bullseye\\lib\\site-packages\\tensorflow\\contrib\\autograph\\impl\\conversion.py\"\u001b[0m, line \u001b[0;32m117\u001b[0m, in \u001b[0;35mentity_to_graph\u001b[0m\n    node, name, ns = function_to_graph(o, program_ctx, arg_values, arg_types)\n",
      "  File \u001b[0;32m\"C:\\ProgramData\\Anaconda3\\envs\\bullseye\\lib\\site-packages\\tensorflow\\contrib\\autograph\\impl\\conversion.py\"\u001b[0m, line \u001b[0;32m265\u001b[0m, in \u001b[0;35mfunction_to_graph\u001b[0m\n    node = node_to_graph(node, context)\n",
      "  File \u001b[0;32m\"C:\\ProgramData\\Anaconda3\\envs\\bullseye\\lib\\site-packages\\tensorflow\\contrib\\autograph\\impl\\conversion.py\"\u001b[0m, line \u001b[0;32m323\u001b[0m, in \u001b[0;35mnode_to_graph\u001b[0m\n    node = _apply_transformer(node, context, call_trees)\n",
      "  File \u001b[0;32m\"C:\\ProgramData\\Anaconda3\\envs\\bullseye\\lib\\site-packages\\tensorflow\\contrib\\autograph\\impl\\conversion.py\"\u001b[0m, line \u001b[0;32m287\u001b[0m, in \u001b[0;35m_apply_transformer\u001b[0m\n    node = converter_module.transform(node, context)\n",
      "  File \u001b[0;32m\"C:\\ProgramData\\Anaconda3\\envs\\bullseye\\lib\\site-packages\\tensorflow\\contrib\\autograph\\converters\\call_trees.py\"\u001b[0m, line \u001b[0;32m330\u001b[0m, in \u001b[0;35mtransform\u001b[0m\n    return CallTreeTransformer(ctx).visit(node)\n",
      "  File \u001b[0;32m\"C:\\ProgramData\\Anaconda3\\envs\\bullseye\\lib\\site-packages\\tensorflow\\contrib\\autograph\\core\\converter.py\"\u001b[0m, line \u001b[0;32m262\u001b[0m, in \u001b[0;35mvisit\u001b[0m\n    return super(Base, self).visit(node)\n",
      "  File \u001b[0;32m\"C:\\ProgramData\\Anaconda3\\envs\\bullseye\\lib\\site-packages\\tensorflow\\contrib\\autograph\\pyct\\transformer.py\"\u001b[0m, line \u001b[0;32m422\u001b[0m, in \u001b[0;35mvisit\u001b[0m\n    result = super(Base, self).visit(node)\n",
      "  File \u001b[0;32m\"C:\\ProgramData\\Anaconda3\\envs\\bullseye\\lib\\ast.py\"\u001b[0m, line \u001b[0;32m253\u001b[0m, in \u001b[0;35mvisit\u001b[0m\n    return visitor(node)\n",
      "  File \u001b[0;32m\"C:\\ProgramData\\Anaconda3\\envs\\bullseye\\lib\\ast.py\"\u001b[0m, line \u001b[0;32m308\u001b[0m, in \u001b[0;35mgeneric_visit\u001b[0m\n    value = self.visit(value)\n",
      "  File \u001b[0;32m\"C:\\ProgramData\\Anaconda3\\envs\\bullseye\\lib\\site-packages\\tensorflow\\contrib\\autograph\\core\\converter.py\"\u001b[0m, line \u001b[0;32m262\u001b[0m, in \u001b[0;35mvisit\u001b[0m\n    return super(Base, self).visit(node)\n",
      "  File \u001b[0;32m\"C:\\ProgramData\\Anaconda3\\envs\\bullseye\\lib\\site-packages\\tensorflow\\contrib\\autograph\\pyct\\transformer.py\"\u001b[0m, line \u001b[0;32m422\u001b[0m, in \u001b[0;35mvisit\u001b[0m\n    result = super(Base, self).visit(node)\n",
      "  File \u001b[0;32m\"C:\\ProgramData\\Anaconda3\\envs\\bullseye\\lib\\ast.py\"\u001b[0m, line \u001b[0;32m253\u001b[0m, in \u001b[0;35mvisit\u001b[0m\n    return visitor(node)\n",
      "  File \u001b[0;32m\"C:\\ProgramData\\Anaconda3\\envs\\bullseye\\lib\\ast.py\"\u001b[0m, line \u001b[0;32m317\u001b[0m, in \u001b[0;35mgeneric_visit\u001b[0m\n    new_node = self.visit(old_value)\n",
      "  File \u001b[0;32m\"C:\\ProgramData\\Anaconda3\\envs\\bullseye\\lib\\site-packages\\tensorflow\\contrib\\autograph\\core\\converter.py\"\u001b[0m, line \u001b[0;32m262\u001b[0m, in \u001b[0;35mvisit\u001b[0m\n    return super(Base, self).visit(node)\n",
      "  File \u001b[0;32m\"C:\\ProgramData\\Anaconda3\\envs\\bullseye\\lib\\site-packages\\tensorflow\\contrib\\autograph\\pyct\\transformer.py\"\u001b[0m, line \u001b[0;32m455\u001b[0m, in \u001b[0;35mvisit\u001b[0m\n    sys.exc_info()[2])\n",
      "  File \u001b[0;32m\"C:\\ProgramData\\Anaconda3\\envs\\bullseye\\lib\\site-packages\\six.py\"\u001b[0m, line \u001b[0;32m692\u001b[0m, in \u001b[0;35mreraise\u001b[0m\n    raise value.with_traceback(tb)\n",
      "  File \u001b[0;32m\"C:\\ProgramData\\Anaconda3\\envs\\bullseye\\lib\\site-packages\\tensorflow\\contrib\\autograph\\pyct\\transformer.py\"\u001b[0m, line \u001b[0;32m422\u001b[0m, in \u001b[0;35mvisit\u001b[0m\n    result = super(Base, self).visit(node)\n",
      "  File \u001b[0;32m\"C:\\ProgramData\\Anaconda3\\envs\\bullseye\\lib\\ast.py\"\u001b[0m, line \u001b[0;32m253\u001b[0m, in \u001b[0;35mvisit\u001b[0m\n    return visitor(node)\n",
      "\u001b[1;36m  File \u001b[1;32m\"C:\\ProgramData\\Anaconda3\\envs\\bullseye\\lib\\site-packages\\tensorflow\\contrib\\autograph\\converters\\call_trees.py\"\u001b[1;36m, line \u001b[1;32m295\u001b[1;36m, in \u001b[1;35mvisit_Call\u001b[1;36m\u001b[0m\n\u001b[1;33m    'py_func with return values (unknown function)')\u001b[0m\n",
      "\u001b[1;36m  File \u001b[1;32m\"<fragment>\"\u001b[1;36m, line \u001b[1;32munknown\u001b[0m\n\u001b[1;33m    <no source available>\u001b[0m\n\u001b[1;37m    ^\u001b[0m\n\u001b[1;31mAutographParseError\u001b[0m\u001b[1;31m:\u001b[0m NotImplementedError: py_func with return values (unknown function)\nOffending source:\nnp.matmul(np.transpose(A), A)\n\n\nOccurred at node:\nCall:\n| func=Attribute:\n| | value=Name:\n| | | id=\"np\"\n| | | ctx=Load()\n| | | annotation=None\n| | | ___pyct_anno={ORIGIN: OriginInfo(file_path='<ipython-input-21-1fbcfa05fa19>', function_name='test_np', line_number=9, column_offset=11, source_code_line='    return np.matmul(np.transpose(A),A)'), QN: np, IS_LOCAL: False, IS_MODIFIED_SINCE_ENTRY: False, IS_PARAM: False, 'live_val': <module 'numpy' from 'C:\\\\ProgramData\\\\Anaconda3\\\\envs\\\\bullseye\\\\lib\\\\site-packages\\\\numpy\\\\__init__.py'>, 'fqn': ('numpy',)}\n| | attr=\"matmul\"\n| | ctx=Load()\n| | ___pyct_anno={ORIGIN: OriginInfo(file_path='<ipython-input-21-1fbcfa05fa19>', function_name='test_np', line_number=9, column_offset=11, source_code_line='    return np.matmul(np.transpose(A),A)'), QN: np.matmul, IS_LOCAL: False, IS_MODIFIED_SINCE_ENTRY: False, IS_PARAM: False, 'parent_type': <class 'module'>, 'live_val': <built-in function matmul>, 'fqn': ('numpy', 'matmul')}\n| args=[\n| | Call:\n| | | func=Attribute:\n| | | | value=Name:\n| | | | | id=\"np\"\n| | | | | ctx=Load()\n| | | | | annotation=None\n| | | | | ___pyct_anno={ORIGIN: OriginInfo(file_path='<ipython-input-21-1fbcfa05fa19>', function_name='test_np', line_number=9, column_offset=21, source_code_line='    return np.matmul(np.transpose(A),A)'), QN: np, IS_LOCAL: False, IS_MODIFIED_SINCE_ENTRY: False, IS_PARAM: False, 'live_val': <module 'numpy' from 'C:\\\\ProgramData\\\\Anaconda3\\\\envs\\\\bullseye\\\\lib\\\\site-packages\\\\numpy\\\\__init__.py'>, 'fqn': ('numpy',)}\n| | | | attr=\"transpose\"\n| | | | ctx=Load()\n| | | | ___pyct_anno={ORIGIN: OriginInfo(file_path='<ipython-input-21-1fbcfa05fa19>', function_name='test_np', line_number=9, column_offset=21, source_code_line='    return np.matmul(np.transpose(A),A)'), QN: np.transpose, IS_LOCAL: False, IS_MODIFIED_SINCE_ENTRY: False, IS_PARAM: False, 'parent_type': <class 'module'>, 'live_val': <function transpose at 0x0000000004B92950>, 'fqn': ('numpy', 'transpose')}\n| | | args=[\n| | | | Name:\n| | | | | id=\"A\"\n| | | | | ctx=Load()\n| | | | | annotation=None\n| | | | | ___pyct_anno={ORIGIN: OriginInfo(file_path='<ipython-input-21-1fbcfa05fa19>', function_name='test_np', line_number=9, column_offset=34, source_code_line='    return np.matmul(np.transpose(A),A)'), QN: A, IS_LOCAL: True, IS_MODIFIED_SINCE_ENTRY: False, IS_PARAM: True, 'definition': <gast.gast.Name object at 0x000000000C9B8668>}\n| | | ]\n| | | keywords=[]\n| | | ___pyct_anno={ORIGIN: OriginInfo(file_path='<ipython-input-21-1fbcfa05fa19>', function_name='test_np', line_number=9, column_offset=21, source_code_line='    return np.matmul(np.transpose(A),A)'), ARGS_SCOPE: Scope{r=(A,), c=(), w=()}}\n| | Name:\n| | | id=\"A\"\n| | | ctx=Load()\n| | | annotation=None\n| | | ___pyct_anno={ORIGIN: OriginInfo(file_path='<ipython-input-21-1fbcfa05fa19>', function_name='test_np', line_number=9, column_offset=37, source_code_line='    return np.matmul(np.transpose(A),A)'), QN: A, IS_LOCAL: True, IS_MODIFIED_SINCE_ENTRY: False, IS_PARAM: True, 'definition': <gast.gast.Name object at 0x000000000C9B8668>}\n| ]\n| keywords=[]\n| ___pyct_anno={ORIGIN: OriginInfo(file_path='<ipython-input-21-1fbcfa05fa19>', function_name='test_np', line_number=9, column_offset=11, source_code_line='    return np.matmul(np.transpose(A),A)'), ARGS_SCOPE: Scope{r=(np, A, np.transpose), c=(), w=()}}\n\n"
     ]
    }
   ],
   "source": [
    "autograph.to_code(test_np)"
   ]
  },
  {
   "cell_type": "code",
   "execution_count": 17,
   "metadata": {},
   "outputs": [
    {
     "ename": "AutographParseError",
     "evalue": "NotImplementedError: py_func with return values (unknown function)\nOffending source:\nnp.matmul(tf.transpose(A), A)\n\n\nOccurred at node:\nCall:\n| func=Attribute:\n| | value=Name:\n| | | id=\"np\"\n| | | ctx=Load()\n| | | annotation=None\n| | | ___pyct_anno={ORIGIN: OriginInfo(file_path='<ipython-input-16-3e5b2a867a5c>', function_name='test_np', line_number=9, column_offset=11, source_code_line='    return np.matmul(tf.transpose(A),A)'), QN: np, IS_LOCAL: False, IS_MODIFIED_SINCE_ENTRY: False, IS_PARAM: False, 'live_val': <module 'numpy' from 'C:\\\\ProgramData\\\\Anaconda3\\\\envs\\\\bullseye\\\\lib\\\\site-packages\\\\numpy\\\\__init__.py'>, 'fqn': ('numpy',)}\n| | attr=\"matmul\"\n| | ctx=Load()\n| | ___pyct_anno={ORIGIN: OriginInfo(file_path='<ipython-input-16-3e5b2a867a5c>', function_name='test_np', line_number=9, column_offset=11, source_code_line='    return np.matmul(tf.transpose(A),A)'), QN: np.matmul, IS_LOCAL: False, IS_MODIFIED_SINCE_ENTRY: False, IS_PARAM: False, 'parent_type': <class 'module'>, 'live_val': <built-in function matmul>, 'fqn': ('numpy', 'matmul')}\n| args=[\n| | Call:\n| | | func=Attribute:\n| | | | value=Name:\n| | | | | id=\"tf\"\n| | | | | ctx=Load()\n| | | | | annotation=None\n| | | | | ___pyct_anno={ORIGIN: OriginInfo(file_path='<ipython-input-16-3e5b2a867a5c>', function_name='test_np', line_number=9, column_offset=21, source_code_line='    return np.matmul(tf.transpose(A),A)'), QN: tf, IS_LOCAL: False, IS_MODIFIED_SINCE_ENTRY: False, IS_PARAM: False, 'live_val': <module 'tensorflow' from 'C:\\\\ProgramData\\\\Anaconda3\\\\envs\\\\bullseye\\\\lib\\\\site-packages\\\\tensorflow\\\\__init__.py'>, 'fqn': ('tensorflow',)}\n| | | | attr=\"transpose\"\n| | | | ctx=Load()\n| | | | ___pyct_anno={ORIGIN: OriginInfo(file_path='<ipython-input-16-3e5b2a867a5c>', function_name='test_np', line_number=9, column_offset=21, source_code_line='    return np.matmul(tf.transpose(A),A)'), QN: tf.transpose, IS_LOCAL: False, IS_MODIFIED_SINCE_ENTRY: False, IS_PARAM: False, 'parent_type': <class 'module'>, 'live_val': <function transpose at 0x0000000007C49D08>, 'fqn': ('tensorflow', 'transpose')}\n| | | args=[\n| | | | Name:\n| | | | | id=\"A\"\n| | | | | ctx=Load()\n| | | | | annotation=None\n| | | | | ___pyct_anno={ORIGIN: OriginInfo(file_path='<ipython-input-16-3e5b2a867a5c>', function_name='test_np', line_number=9, column_offset=34, source_code_line='    return np.matmul(tf.transpose(A),A)'), QN: A, IS_LOCAL: True, IS_MODIFIED_SINCE_ENTRY: False, IS_PARAM: True, 'definition': <gast.gast.Name object at 0x000000000C9107F0>}\n| | | ]\n| | | keywords=[]\n| | | ___pyct_anno={ORIGIN: OriginInfo(file_path='<ipython-input-16-3e5b2a867a5c>', function_name='test_np', line_number=9, column_offset=21, source_code_line='    return np.matmul(tf.transpose(A),A)'), ARGS_SCOPE: Scope{r=(A,), c=(), w=()}}\n| | Name:\n| | | id=\"A\"\n| | | ctx=Load()\n| | | annotation=None\n| | | ___pyct_anno={ORIGIN: OriginInfo(file_path='<ipython-input-16-3e5b2a867a5c>', function_name='test_np', line_number=9, column_offset=37, source_code_line='    return np.matmul(tf.transpose(A),A)'), QN: A, IS_LOCAL: True, IS_MODIFIED_SINCE_ENTRY: False, IS_PARAM: True, 'definition': <gast.gast.Name object at 0x000000000C9107F0>}\n| ]\n| keywords=[]\n| ___pyct_anno={ORIGIN: OriginInfo(file_path='<ipython-input-16-3e5b2a867a5c>', function_name='test_np', line_number=9, column_offset=11, source_code_line='    return np.matmul(tf.transpose(A),A)'), ARGS_SCOPE: Scope{r=(tf.transpose, A, tf), c=(), w=()}}\n (<fragment>, line 0)",
     "output_type": "error",
     "traceback": [
      "Traceback \u001b[1;36m(most recent call last)\u001b[0m:\n",
      "  File \u001b[0;32m\"C:\\ProgramData\\Anaconda3\\envs\\bullseye\\lib\\site-packages\\IPython\\core\\interactiveshell.py\"\u001b[0m, line \u001b[0;32m2961\u001b[0m, in \u001b[0;35mrun_code\u001b[0m\n    exec(code_obj, self.user_global_ns, self.user_ns)\n",
      "  File \u001b[0;32m\"<ipython-input-17-41a4b4396f83>\"\u001b[0m, line \u001b[0;32m4\u001b[0m, in \u001b[0;35m<module>\u001b[0m\n    np_ = autograph.to_graph(test_np)\n",
      "  File \u001b[0;32m\"C:\\ProgramData\\Anaconda3\\envs\\bullseye\\lib\\site-packages\\tensorflow\\contrib\\autograph\\impl\\api.py\"\u001b[0m, line \u001b[0;32m246\u001b[0m, in \u001b[0;35mto_graph\u001b[0m\n    arg_types)\n",
      "  File \u001b[0;32m\"C:\\ProgramData\\Anaconda3\\envs\\bullseye\\lib\\site-packages\\tensorflow\\contrib\\autograph\\impl\\conversion.py\"\u001b[0m, line \u001b[0;32m117\u001b[0m, in \u001b[0;35mentity_to_graph\u001b[0m\n    node, name, ns = function_to_graph(o, program_ctx, arg_values, arg_types)\n",
      "  File \u001b[0;32m\"C:\\ProgramData\\Anaconda3\\envs\\bullseye\\lib\\site-packages\\tensorflow\\contrib\\autograph\\impl\\conversion.py\"\u001b[0m, line \u001b[0;32m265\u001b[0m, in \u001b[0;35mfunction_to_graph\u001b[0m\n    node = node_to_graph(node, context)\n",
      "  File \u001b[0;32m\"C:\\ProgramData\\Anaconda3\\envs\\bullseye\\lib\\site-packages\\tensorflow\\contrib\\autograph\\impl\\conversion.py\"\u001b[0m, line \u001b[0;32m323\u001b[0m, in \u001b[0;35mnode_to_graph\u001b[0m\n    node = _apply_transformer(node, context, call_trees)\n",
      "  File \u001b[0;32m\"C:\\ProgramData\\Anaconda3\\envs\\bullseye\\lib\\site-packages\\tensorflow\\contrib\\autograph\\impl\\conversion.py\"\u001b[0m, line \u001b[0;32m287\u001b[0m, in \u001b[0;35m_apply_transformer\u001b[0m\n    node = converter_module.transform(node, context)\n",
      "  File \u001b[0;32m\"C:\\ProgramData\\Anaconda3\\envs\\bullseye\\lib\\site-packages\\tensorflow\\contrib\\autograph\\converters\\call_trees.py\"\u001b[0m, line \u001b[0;32m330\u001b[0m, in \u001b[0;35mtransform\u001b[0m\n    return CallTreeTransformer(ctx).visit(node)\n",
      "  File \u001b[0;32m\"C:\\ProgramData\\Anaconda3\\envs\\bullseye\\lib\\site-packages\\tensorflow\\contrib\\autograph\\core\\converter.py\"\u001b[0m, line \u001b[0;32m262\u001b[0m, in \u001b[0;35mvisit\u001b[0m\n    return super(Base, self).visit(node)\n",
      "  File \u001b[0;32m\"C:\\ProgramData\\Anaconda3\\envs\\bullseye\\lib\\site-packages\\tensorflow\\contrib\\autograph\\pyct\\transformer.py\"\u001b[0m, line \u001b[0;32m422\u001b[0m, in \u001b[0;35mvisit\u001b[0m\n    result = super(Base, self).visit(node)\n",
      "  File \u001b[0;32m\"C:\\ProgramData\\Anaconda3\\envs\\bullseye\\lib\\ast.py\"\u001b[0m, line \u001b[0;32m253\u001b[0m, in \u001b[0;35mvisit\u001b[0m\n    return visitor(node)\n",
      "  File \u001b[0;32m\"C:\\ProgramData\\Anaconda3\\envs\\bullseye\\lib\\ast.py\"\u001b[0m, line \u001b[0;32m308\u001b[0m, in \u001b[0;35mgeneric_visit\u001b[0m\n    value = self.visit(value)\n",
      "  File \u001b[0;32m\"C:\\ProgramData\\Anaconda3\\envs\\bullseye\\lib\\site-packages\\tensorflow\\contrib\\autograph\\core\\converter.py\"\u001b[0m, line \u001b[0;32m262\u001b[0m, in \u001b[0;35mvisit\u001b[0m\n    return super(Base, self).visit(node)\n",
      "  File \u001b[0;32m\"C:\\ProgramData\\Anaconda3\\envs\\bullseye\\lib\\site-packages\\tensorflow\\contrib\\autograph\\pyct\\transformer.py\"\u001b[0m, line \u001b[0;32m422\u001b[0m, in \u001b[0;35mvisit\u001b[0m\n    result = super(Base, self).visit(node)\n",
      "  File \u001b[0;32m\"C:\\ProgramData\\Anaconda3\\envs\\bullseye\\lib\\ast.py\"\u001b[0m, line \u001b[0;32m253\u001b[0m, in \u001b[0;35mvisit\u001b[0m\n    return visitor(node)\n",
      "  File \u001b[0;32m\"C:\\ProgramData\\Anaconda3\\envs\\bullseye\\lib\\ast.py\"\u001b[0m, line \u001b[0;32m317\u001b[0m, in \u001b[0;35mgeneric_visit\u001b[0m\n    new_node = self.visit(old_value)\n",
      "  File \u001b[0;32m\"C:\\ProgramData\\Anaconda3\\envs\\bullseye\\lib\\site-packages\\tensorflow\\contrib\\autograph\\core\\converter.py\"\u001b[0m, line \u001b[0;32m262\u001b[0m, in \u001b[0;35mvisit\u001b[0m\n    return super(Base, self).visit(node)\n",
      "  File \u001b[0;32m\"C:\\ProgramData\\Anaconda3\\envs\\bullseye\\lib\\site-packages\\tensorflow\\contrib\\autograph\\pyct\\transformer.py\"\u001b[0m, line \u001b[0;32m455\u001b[0m, in \u001b[0;35mvisit\u001b[0m\n    sys.exc_info()[2])\n",
      "  File \u001b[0;32m\"C:\\ProgramData\\Anaconda3\\envs\\bullseye\\lib\\site-packages\\six.py\"\u001b[0m, line \u001b[0;32m692\u001b[0m, in \u001b[0;35mreraise\u001b[0m\n    raise value.with_traceback(tb)\n",
      "  File \u001b[0;32m\"C:\\ProgramData\\Anaconda3\\envs\\bullseye\\lib\\site-packages\\tensorflow\\contrib\\autograph\\pyct\\transformer.py\"\u001b[0m, line \u001b[0;32m422\u001b[0m, in \u001b[0;35mvisit\u001b[0m\n    result = super(Base, self).visit(node)\n",
      "  File \u001b[0;32m\"C:\\ProgramData\\Anaconda3\\envs\\bullseye\\lib\\ast.py\"\u001b[0m, line \u001b[0;32m253\u001b[0m, in \u001b[0;35mvisit\u001b[0m\n    return visitor(node)\n",
      "\u001b[1;36m  File \u001b[1;32m\"C:\\ProgramData\\Anaconda3\\envs\\bullseye\\lib\\site-packages\\tensorflow\\contrib\\autograph\\converters\\call_trees.py\"\u001b[1;36m, line \u001b[1;32m295\u001b[1;36m, in \u001b[1;35mvisit_Call\u001b[1;36m\u001b[0m\n\u001b[1;33m    'py_func with return values (unknown function)')\u001b[0m\n",
      "\u001b[1;36m  File \u001b[1;32m\"<fragment>\"\u001b[1;36m, line \u001b[1;32munknown\u001b[0m\n\u001b[1;33m    <no source available>\u001b[0m\n\u001b[1;37m    ^\u001b[0m\n\u001b[1;31mAutographParseError\u001b[0m\u001b[1;31m:\u001b[0m NotImplementedError: py_func with return values (unknown function)\nOffending source:\nnp.matmul(tf.transpose(A), A)\n\n\nOccurred at node:\nCall:\n| func=Attribute:\n| | value=Name:\n| | | id=\"np\"\n| | | ctx=Load()\n| | | annotation=None\n| | | ___pyct_anno={ORIGIN: OriginInfo(file_path='<ipython-input-16-3e5b2a867a5c>', function_name='test_np', line_number=9, column_offset=11, source_code_line='    return np.matmul(tf.transpose(A),A)'), QN: np, IS_LOCAL: False, IS_MODIFIED_SINCE_ENTRY: False, IS_PARAM: False, 'live_val': <module 'numpy' from 'C:\\\\ProgramData\\\\Anaconda3\\\\envs\\\\bullseye\\\\lib\\\\site-packages\\\\numpy\\\\__init__.py'>, 'fqn': ('numpy',)}\n| | attr=\"matmul\"\n| | ctx=Load()\n| | ___pyct_anno={ORIGIN: OriginInfo(file_path='<ipython-input-16-3e5b2a867a5c>', function_name='test_np', line_number=9, column_offset=11, source_code_line='    return np.matmul(tf.transpose(A),A)'), QN: np.matmul, IS_LOCAL: False, IS_MODIFIED_SINCE_ENTRY: False, IS_PARAM: False, 'parent_type': <class 'module'>, 'live_val': <built-in function matmul>, 'fqn': ('numpy', 'matmul')}\n| args=[\n| | Call:\n| | | func=Attribute:\n| | | | value=Name:\n| | | | | id=\"tf\"\n| | | | | ctx=Load()\n| | | | | annotation=None\n| | | | | ___pyct_anno={ORIGIN: OriginInfo(file_path='<ipython-input-16-3e5b2a867a5c>', function_name='test_np', line_number=9, column_offset=21, source_code_line='    return np.matmul(tf.transpose(A),A)'), QN: tf, IS_LOCAL: False, IS_MODIFIED_SINCE_ENTRY: False, IS_PARAM: False, 'live_val': <module 'tensorflow' from 'C:\\\\ProgramData\\\\Anaconda3\\\\envs\\\\bullseye\\\\lib\\\\site-packages\\\\tensorflow\\\\__init__.py'>, 'fqn': ('tensorflow',)}\n| | | | attr=\"transpose\"\n| | | | ctx=Load()\n| | | | ___pyct_anno={ORIGIN: OriginInfo(file_path='<ipython-input-16-3e5b2a867a5c>', function_name='test_np', line_number=9, column_offset=21, source_code_line='    return np.matmul(tf.transpose(A),A)'), QN: tf.transpose, IS_LOCAL: False, IS_MODIFIED_SINCE_ENTRY: False, IS_PARAM: False, 'parent_type': <class 'module'>, 'live_val': <function transpose at 0x0000000007C49D08>, 'fqn': ('tensorflow', 'transpose')}\n| | | args=[\n| | | | Name:\n| | | | | id=\"A\"\n| | | | | ctx=Load()\n| | | | | annotation=None\n| | | | | ___pyct_anno={ORIGIN: OriginInfo(file_path='<ipython-input-16-3e5b2a867a5c>', function_name='test_np', line_number=9, column_offset=34, source_code_line='    return np.matmul(tf.transpose(A),A)'), QN: A, IS_LOCAL: True, IS_MODIFIED_SINCE_ENTRY: False, IS_PARAM: True, 'definition': <gast.gast.Name object at 0x000000000C9107F0>}\n| | | ]\n| | | keywords=[]\n| | | ___pyct_anno={ORIGIN: OriginInfo(file_path='<ipython-input-16-3e5b2a867a5c>', function_name='test_np', line_number=9, column_offset=21, source_code_line='    return np.matmul(tf.transpose(A),A)'), ARGS_SCOPE: Scope{r=(A,), c=(), w=()}}\n| | Name:\n| | | id=\"A\"\n| | | ctx=Load()\n| | | annotation=None\n| | | ___pyct_anno={ORIGIN: OriginInfo(file_path='<ipython-input-16-3e5b2a867a5c>', function_name='test_np', line_number=9, column_offset=37, source_code_line='    return np.matmul(tf.transpose(A),A)'), QN: A, IS_LOCAL: True, IS_MODIFIED_SINCE_ENTRY: False, IS_PARAM: True, 'definition': <gast.gast.Name object at 0x000000000C9107F0>}\n| ]\n| keywords=[]\n| ___pyct_anno={ORIGIN: OriginInfo(file_path='<ipython-input-16-3e5b2a867a5c>', function_name='test_np', line_number=9, column_offset=11, source_code_line='    return np.matmul(tf.transpose(A),A)'), ARGS_SCOPE: Scope{r=(tf.transpose, A, tf), c=(), w=()}}\n\n"
     ]
    }
   ],
   "source": [
    "tf.reset_default_graph()\n",
    "\n",
    "sqrt = autograph.to_graph(square_if_positive)\n",
    "np_ = autograph.to_graph(test_np)\n",
    "x = tf.get_variable(\"x\", [], initializer = tf.initializers.constant(3), dtype = tf.float32)\n",
    "vec = x = tf.get_variable(\"x\", [3], initializer = tf.initializers.constant([2,3,1]), dtype = tf.float32)\n",
    "init = tf.global_variables_initializer()"
   ]
  },
  {
   "cell_type": "code",
   "execution_count": 14,
   "metadata": {},
   "outputs": [
    {
     "name": "stdout",
     "output_type": "stream",
     "text": [
      "9.0\n"
     ]
    },
    {
     "ename": "NameError",
     "evalue": "name 'np_' is not defined",
     "output_type": "error",
     "traceback": [
      "\u001b[1;31m---------------------------------------------------------------------------\u001b[0m",
      "\u001b[1;31mNameError\u001b[0m                                 Traceback (most recent call last)",
      "\u001b[1;32m<ipython-input-14-b36c61ba6697>\u001b[0m in \u001b[0;36m<module>\u001b[1;34m()\u001b[0m\n\u001b[0;32m      2\u001b[0m     \u001b[0msess\u001b[0m\u001b[1;33m.\u001b[0m\u001b[0mrun\u001b[0m\u001b[1;33m(\u001b[0m\u001b[0minit\u001b[0m\u001b[1;33m)\u001b[0m\u001b[1;33m\u001b[0m\u001b[0m\n\u001b[0;32m      3\u001b[0m     \u001b[0mprint\u001b[0m\u001b[1;33m(\u001b[0m\u001b[0msess\u001b[0m\u001b[1;33m.\u001b[0m\u001b[0mrun\u001b[0m\u001b[1;33m(\u001b[0m\u001b[0msqrt\u001b[0m\u001b[1;33m(\u001b[0m\u001b[0mx\u001b[0m\u001b[1;33m)\u001b[0m\u001b[1;33m)\u001b[0m\u001b[1;33m)\u001b[0m\u001b[1;33m\u001b[0m\u001b[0m\n\u001b[1;32m----> 4\u001b[1;33m     \u001b[0mprint\u001b[0m\u001b[1;33m(\u001b[0m\u001b[0msess\u001b[0m\u001b[1;33m.\u001b[0m\u001b[0mrun\u001b[0m\u001b[1;33m(\u001b[0m\u001b[0mnp_\u001b[0m\u001b[1;33m(\u001b[0m\u001b[0mvec\u001b[0m\u001b[1;33m)\u001b[0m\u001b[1;33m)\u001b[0m\u001b[1;33m)\u001b[0m\u001b[1;33m\u001b[0m\u001b[0m\n\u001b[0m",
      "\u001b[1;31mNameError\u001b[0m: name 'np_' is not defined"
     ]
    }
   ],
   "source": [
    "with tf.Session() as sess:\n",
    "    sess.run(init)\n",
    "    print(sess.run(sqrt(x)))\n",
    "    print(sess.run(np_(vec)))"
   ]
  },
  {
   "cell_type": "code",
   "execution_count": null,
   "metadata": {},
   "outputs": [],
   "source": []
  }
 ],
 "metadata": {
  "kernelspec": {
   "display_name": "Python (bullseye)",
   "language": "python",
   "name": "bullseye"
  },
  "language_info": {
   "codemirror_mode": {
    "name": "ipython",
    "version": 3
   },
   "file_extension": ".py",
   "mimetype": "text/x-python",
   "name": "python",
   "nbconvert_exporter": "python",
   "pygments_lexer": "ipython3",
   "version": "3.6.6"
  }
 },
 "nbformat": 4,
 "nbformat_minor": 2
}
