{
 "cells": [
  {
   "cell_type": "code",
   "execution_count": 79,
   "metadata": {},
   "outputs": [],
   "source": [
    "import tensorflow as tf\n",
    "import numpy as np"
   ]
  },
  {
   "cell_type": "code",
   "execution_count": 103,
   "metadata": {},
   "outputs": [],
   "source": [
    "def P_(A):\n",
    "    #compute multilogit probabilities for each a of A\n",
    "    sp = tf.exp(A - tf.ones(k) * tf.reduce_max(A, reduction_indices=[0])) #remove max for numerical stability + to exp\n",
    "    sp = sp/tf.reduce_sum(sp, reduction_indices=[0]) #[s,n,k], where probs[s_,i] correspond to the probabilities of each a[s_,i]\n",
    "    return sp\n",
    "\n",
    "def f(x,y):\n",
    "    p = P_(x)\n",
    "    return -tf.log(tf.tensordot(y,p,1))\n",
    "def f_grad(x,y):\n",
    "    p = P_(x)\n",
    "    return -y + p\n",
    "def f_hess(x,y):\n",
    "    p = P_(x)\n",
    "    return tf.diag(p) - tf.tensordot(p,p,0)\n",
    "\n",
    "def f_grad_(x,y):\n",
    "    return tf.gradients(f(x,y),x)\n",
    "def f_hess_(x,y):\n",
    "    return tf.hessians(f(x,y),x)"
   ]
  },
  {
   "cell_type": "code",
   "execution_count": 104,
   "metadata": {},
   "outputs": [],
   "source": [
    "tf.reset_default_graph()\n",
    "\n",
    "x = tf.get_variable(\"x\",   [k],   initializer = tf.initializers.constant([1,2,3,4]), dtype = tf.float32)\n",
    "y =tf.get_variable(\"y\",   [k],   initializer = tf.initializers.constant([1,0,0,0]), dtype = tf.float32)\n",
    "\n",
    "grad = tf.gradients(f(x,y),x)\n",
    "grad_ = f_grad(x,y)\n",
    "\n",
    "hess = tf.hessians(f(x,y),x)\n",
    "hess_ = f_hess(x,y)\n",
    "\n",
    "init = tf.global_variables_initializer()"
   ]
  },
  {
   "cell_type": "code",
   "execution_count": 105,
   "metadata": {},
   "outputs": [
    {
     "name": "stdout",
     "output_type": "stream",
     "text": [
      "[array([-0.9679414 ,  0.08714432,  0.2368828 ,  0.6439143 ], dtype=float32)]\n",
      "[-0.9679414   0.08714432  0.2368828   0.6439142 ]\n",
      "[array([[ 0.0310308 , -0.00279373, -0.00759413, -0.02064294],\n",
      "       [-0.00279372,  0.07955018, -0.02064299, -0.05611346],\n",
      "       [-0.00759411, -0.02064299,  0.18076934, -0.15253225],\n",
      "       [-0.02064295, -0.05611348, -0.15253225,  0.22928868]],\n",
      "      dtype=float32)]\n",
      "[[ 0.03103085 -0.00279372 -0.00759413 -0.02064299]\n",
      " [-0.00279372  0.07955018 -0.02064299 -0.05611346]\n",
      " [-0.00759413 -0.02064299  0.18076934 -0.1525322 ]\n",
      " [-0.02064299 -0.05611346 -0.1525322   0.2292887 ]]\n"
     ]
    }
   ],
   "source": [
    "with tf.Session() as sess:\n",
    "    sess.run(init)\n",
    "    print(sess.run(grad))\n",
    "    print(sess.run(grad_))\n",
    "    print(sess.run(hess))\n",
    "    print(sess.run(hess_))"
   ]
  },
  {
   "cell_type": "code",
   "execution_count": null,
   "metadata": {},
   "outputs": [],
   "source": []
  }
 ],
 "metadata": {
  "kernelspec": {
   "display_name": "Python (bullseye)",
   "language": "python",
   "name": "bullseye"
  },
  "language_info": {
   "codemirror_mode": {
    "name": "ipython",
    "version": 3
   },
   "file_extension": ".py",
   "mimetype": "text/x-python",
   "name": "python",
   "nbconvert_exporter": "python",
   "pygments_lexer": "ipython3",
   "version": "3.6.6"
  }
 },
 "nbformat": 4,
 "nbformat_minor": 2
}
