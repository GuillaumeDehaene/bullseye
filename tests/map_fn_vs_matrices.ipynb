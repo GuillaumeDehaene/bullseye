{
 "cells": [
  {
   "cell_type": "code",
   "execution_count": 2,
   "metadata": {},
   "outputs": [],
   "source": [
    "import tensorflow as tf\n",
    "import numpy as np\n",
    "import time\n",
    "import matplotlib.pyplot as plt\n",
    "import seabord as sns\n",
    "\n",
    "import sys\n",
    "sys.path.append('../modules')\n",
    "\n",
    "from predefined_functions import *\n",
    "\n",
    "%load_ext autoreload\n",
    "%autoreload 2"
   ]
  },
  {
   "cell_type": "code",
   "execution_count": 6,
   "metadata": {},
   "outputs": [],
   "source": [
    "#number of dimensions\n",
    "d = 50\n",
    "#number of observations\n",
    "n = 10**3\n",
    "#number of class for logit\n",
    "k = 10\n",
    "#number of dimension wrt different classes\n",
    "p = d * k\n",
    "#size of sample\n",
    "s = 10\n",
    "\n",
    "#for testing\n",
    "A_array = np.random.randn(s,n,k)\n",
    "Y_array = np.asarray([np.random.multinomial(1,1./k * np.ones(k)) for _ in range(n)])"
   ]
  },
  {
   "cell_type": "code",
   "execution_count": 7,
   "metadata": {},
   "outputs": [],
   "source": [
    "class Option:\n",
    "    def __init__(self, nom, phi_option, proj_option):\n",
    "        self.nom = nom\n",
    "        self.phi_option = phi_option\n",
    "        self.proj_option = proj_option\n",
    "        self.times = []\n",
    "        \n",
    "options = [Option(\"Matrix\",\"\",\"mapfn\"),\n",
    "          Option(\"map_fn\", \"mapfn\",\"mapfn\"),\n",
    "          Option(\"Optimized map_fn\", \"mapfn_opt\",\"mapfn\"),\n",
    "          Option(\"Matrix with matrix computation of A's\", \"\",\"\"),\n",
    "          Option(\"Matrix with auto gradient\", \"\", \"mapfn\")]\n",
    "#Option(\"map_fn and auto differenciation\", \"mapfn_aut_diff\",\"mapfn\")"
   ]
  },
  {
   "cell_type": "code",
   "execution_count": 5,
   "metadata": {},
   "outputs": [
    {
     "name": "stdout",
     "output_type": "stream",
     "text": [
      "Matrix done, with mean : 0.6699998378753662 s\n",
      "map_fn done, with mean : 1.7799999713897705 s\n",
      "Optimized map_fn done, with mean : 1.2190001010894775 s\n",
      "map_fn and auto differenciation done, with mean : 29.179999828338623 s\n",
      "Matrix with matrix computation of A's done, with mean : 0.4139997959136963 s\n",
      "Matrix with auto gradient done, with mean : 0.3299999237060547 s\n"
     ]
    }
   ],
   "source": [
    "for o in options:\n",
    "    tf.reset_default_graph()\n",
    "    phi_, grad_phi_, hess_phi_, projs_ = get_predefined_functions(\"multilogit\",\n",
    "      \n",
    "    A = tf.get_variable(\"A\",   [s,n,k],   initializer = tf.initializers.constant(A_array), dtype = tf.float32)\n",
    "    Y = tf.get_variable(\"Y\",   [n,k],   initializer = tf.initializers.constant(Y_array), dtype = tf.float32)\n",
    "    \n",
    "    phi = tf.map_fn(lambda x: phi_(x, Y), A, dtype=tf.float32)\n",
    "    grad_phi = tf.map_fn(lambda x: grad_phi_(x, Y), A, dtype=tf.float32)\n",
    "    hess_phi = tf.map_fn(lambda x: hess_phi_(x, Y), A, dtype=tf.float32)\n",
    "\n",
    "    init = tf.global_variables_initializer()\n",
    "\n",
    "    num_iter = 10\n",
    "    times = []\n",
    "    \n",
    "    for _ in range(num_iter):\n",
    "        t = time.time()\n",
    "        with tf.Session() as sess:\n",
    "            for _ in range(num_iter):\n",
    "                sess.run(init)\n",
    "                sess.run([phi, grad_phi, hess_phi])\n",
    "        times.append(time.time()-t)\n",
    "    o.times = times\n",
    "    print(\"{} done, with mean : {} s\".format(o.nom,sum(times)/num_iter))"
   ]
  },
  {
   "cell_type": "code",
   "execution_count": 43,
   "metadata": {},
   "outputs": [
    {
     "data": {
      "image/png": "[encoded data removed]",
      "text/plain": [
       "<Figure size 432x288 with 1 Axes>"
      ]
     },
     "metadata": {
      "needs_background": "light"
     },
     "output_type": "display_data"
    }
   ],
   "source": [
    "data = [o.times for o in options]\n",
    "plt.figure()\n",
    "plt.boxplot(data)\n",
    "plt.show()"
   ]
  },
  {
   "cell_type": "code",
   "execution_count": null,
   "metadata": {},
   "outputs": [],
   "source": []
  }
 ],
 "metadata": {
  "kernelspec": {
   "display_name": "Python (bullseye)",
   "language": "python",
   "name": "bullseye"
  },
  "language_info": {
   "codemirror_mode": {
    "name": "ipython",
    "version": 3
   },
   "file_extension": ".py",
   "mimetype": "text/x-python",
   "name": "python",
   "nbconvert_exporter": "python",
   "pygments_lexer": "ipython3",
   "version": "3.6.6"
  }
 },
 "nbformat": 4,
 "nbformat_minor": 2
}
